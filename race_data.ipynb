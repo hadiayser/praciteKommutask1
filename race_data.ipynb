{
 "cells": [
  {
   "cell_type": "code",
   "execution_count": 2,
   "metadata": {},
   "outputs": [
    {
     "ename": "SyntaxError",
     "evalue": "(unicode error) 'unicodeescape' codec can't decode bytes in position 2-3: truncated \\UXXXXXXXX escape (1327824374.py, line 4)",
     "output_type": "error",
     "traceback": [
      "\u001b[1;36m  Cell \u001b[1;32mIn[2], line 4\u001b[1;36m\u001b[0m\n\u001b[1;33m    results_dataframe = pd.read_csv('C:\\Users\\hadia\\Documents\\GitHub\\praciteKommutask1\\archive\\data\\results.csv')\u001b[0m\n\u001b[1;37m                                                                                                                ^\u001b[0m\n\u001b[1;31mSyntaxError\u001b[0m\u001b[1;31m:\u001b[0m (unicode error) 'unicodeescape' codec can't decode bytes in position 2-3: truncated \\UXXXXXXXX escape\n"
     ]
    }
   ],
   "source": [
    "import numpy as np\n",
    "import pandas as pd \n",
    "# Import Data\n",
    "results_dataframe = pd.read_csv('C:\\Users\\hadia\\Documents\\GitHub\\praciteKommutask1\\archive\\data\\results.csv')\n",
    "circuits_dataframe = pd.read_csv('C:\\Users\\hadia\\Documents\\GitHub\\praciteKommutask1\\archive\\data\\circuits.csv')\n",
    "drivers_dataframe = pd.read_csv('C:\\Users\\hadia\\Documents\\GitHub\\praciteKommutask1\\archive\\data\\drivers.csv')\n",
    "races_dataframe = pd.read_csv('C:\\Users\\hadia\\Documents\\GitHub\\praciteKommutask1\\archive\\data\\races.csv')\n",
    "constructor_dataframe = pd.read_csv('C:\\Users\\hadia\\Documents\\GitHub\\praciteKommutask1\\archive\\data\\constructors.csv')\n",
    "results_dataframe.head()# Prints Drivers Data Frame\n",
    "drivers_dataframe.head()"
   ]
  }
 ],
 "metadata": {
  "kernelspec": {
   "display_name": "base",
   "language": "python",
   "name": "python3"
  },
  "language_info": {
   "codemirror_mode": {
    "name": "ipython",
    "version": 3
   },
   "file_extension": ".py",
   "mimetype": "text/x-python",
   "name": "python",
   "nbconvert_exporter": "python",
   "pygments_lexer": "ipython3",
   "version": "3.11.4"
  },
  "orig_nbformat": 4
 },
 "nbformat": 4,
 "nbformat_minor": 2
}
